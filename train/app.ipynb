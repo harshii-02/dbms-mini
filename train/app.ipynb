{
 "cells": [
  {
   "cell_type": "code",
   "execution_count": 1,
   "metadata": {},
   "outputs": [],
   "source": [
    "from flask import Flask, render_template, request, redirect, url_for, session\n",
    "import mysql.connector\n",
    "import hashlib\n",
    "import os"
   ]
  },
  {
   "cell_type": "code",
   "execution_count": 6,
   "metadata": {},
   "outputs": [],
   "source": [
    "app = Flask(__name__)\n",
    "app.secret_key = os.urandom(24)  # Generate a random secret key\n",
    "\n",
    "db = mysql.connector.connect(\n",
    "    host=\"localhost\", user=\"root\", password=\"india123\", database=\"appy\"\n",
    ")\n",
    "cursor = db.cursor()\n",
    "\n",
    "# Function to hash passwords using SHA-256\n",
    "# def hash_password(password):\n",
    "#     return hashlib.sha256(password.encode('utf-8')).hexdigest()\n",
    "\n",
    "# Function to check hashed password\n",
    "def check_password(hashed_password, user_password):\n",
    "    return hashed_password == user_password\n",
    "\n",
    "@app.route(\"/\")\n",
    "def index():\n",
    "    if 'username' not in session:\n",
    "        return redirect(url_for('login'))\n",
    "    username = session['username']\n",
    "    cursor.execute(\"SELECT * FROM Train\")\n",
    "    trains = cursor.fetchall()\n",
    "    return render_template(\"index.html\", username=username, trains=trains)"
   ]
  },
  {
   "cell_type": "code",
   "execution_count": 7,
   "metadata": {},
   "outputs": [
    {
     "data": {
      "text/plain": [
       "True"
      ]
     },
     "execution_count": 7,
     "metadata": {},
     "output_type": "execute_result"
    }
   ],
   "source": [
    "check_password('india123', 'india123')"
   ]
  },
  {
   "cell_type": "code",
   "execution_count": null,
   "metadata": {},
   "outputs": [],
   "source": [
    "@app.route(\"/login\", methods=[\"GET\", \"POST\"])\n",
    "def login():\n",
    "    if request.method == \"POST\":\n",
    "        username = request.form['username']\n",
    "        password = request.form['password']\n",
    "\n",
    "        # Check if admin\n",
    "        cursor.execute(\"SELECT * FROM Admin WHERE Username = %s\", (username,))\n",
    "        admin = cursor.fetchone()\n",
    "        if admin:\n",
    "            if check_password(admin[2], password):\n",
    "                session['username'] = username\n",
    "                return redirect(url_for('index'))\n",
    "            else:\n",
    "                error = \"Incorrect password. Please try again.\"\n",
    "                return render_template(\"login.html\", error=error)\n",
    "\n",
    "        # Check if user\n",
    "        cursor.execute(\"SELECT * FROM User WHERE Username = %s\", (username,))\n",
    "        user = cursor.fetchone()\n",
    "        if user:\n",
    "            if check_password(user[2], password):\n",
    "                session['username'] = username\n",
    "                return redirect(url_for('index'))\n",
    "            else:\n",
    "                error = \"Incorrect password. Please try again.\"\n",
    "                return render_template(\"login.html\", error=error)\n",
    "\n",
    "        # Username not found\n",
    "        error = \"Invalid username. Please check your username and try again.\"\n",
    "        return render_template(\"login.html\", error=error)\n",
    "    \n",
    "    return render_template(\"login.html\")"
   ]
  }
 ],
 "metadata": {
  "kernelspec": {
   "display_name": "Python 3",
   "language": "python",
   "name": "python3"
  },
  "language_info": {
   "codemirror_mode": {
    "name": "ipython",
    "version": 3
   },
   "file_extension": ".py",
   "mimetype": "text/x-python",
   "name": "python",
   "nbconvert_exporter": "python",
   "pygments_lexer": "ipython3",
   "version": "3.11.9"
  }
 },
 "nbformat": 4,
 "nbformat_minor": 2
}
